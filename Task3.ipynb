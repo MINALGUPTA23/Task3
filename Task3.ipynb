{
 "cells": [
  {
   "cell_type": "markdown",
   "id": "30928148",
   "metadata": {},
   "source": [
    "# @ The Sparks Foundation\n",
    "# Name:Minal Gupta\n",
    "# Task3\n",
    "Dataset link: https://bit.ly/3i4rbWl"
   ]
  },
  {
   "cell_type": "markdown",
   "id": "f3beb312",
   "metadata": {},
   "source": [
    "# Exploratory Data Analysis(EDA)-Retail\n",
    "\n",
    "Perform EDA on 'SampleSuperstore'dataset and find out the weak areas where you can work to make more profit.\n"
   ]
  },
  {
   "cell_type": "code",
   "execution_count": 2,
   "id": "c66a692a",
   "metadata": {},
   "outputs": [],
   "source": [
    "# importing libraries\n",
    "import pandas as pd\n",
    "import numpy as np\n",
    "import matplotlib.pyplot as plt"
   ]
  },
  {
   "cell_type": "code",
   "execution_count": 4,
   "id": "5aab9134",
   "metadata": {},
   "outputs": [
    {
     "data": {
      "text/html": [
       "<div>\n",
       "<style scoped>\n",
       "    .dataframe tbody tr th:only-of-type {\n",
       "        vertical-align: middle;\n",
       "    }\n",
       "\n",
       "    .dataframe tbody tr th {\n",
       "        vertical-align: top;\n",
       "    }\n",
       "\n",
       "    .dataframe thead th {\n",
       "        text-align: right;\n",
       "    }\n",
       "</style>\n",
       "<table border=\"1\" class=\"dataframe\">\n",
       "  <thead>\n",
       "    <tr style=\"text-align: right;\">\n",
       "      <th></th>\n",
       "      <th>Ship Mode</th>\n",
       "      <th>Segment</th>\n",
       "      <th>Country</th>\n",
       "      <th>City</th>\n",
       "      <th>State</th>\n",
       "      <th>Postal Code</th>\n",
       "      <th>Region</th>\n",
       "      <th>Category</th>\n",
       "      <th>Sub-Category</th>\n",
       "      <th>Sales</th>\n",
       "      <th>Quantity</th>\n",
       "      <th>Discount</th>\n",
       "      <th>Profit</th>\n",
       "    </tr>\n",
       "  </thead>\n",
       "  <tbody>\n",
       "    <tr>\n",
       "      <th>0</th>\n",
       "      <td>Second Class</td>\n",
       "      <td>Consumer</td>\n",
       "      <td>United States</td>\n",
       "      <td>Henderson</td>\n",
       "      <td>Kentucky</td>\n",
       "      <td>42420</td>\n",
       "      <td>South</td>\n",
       "      <td>Furniture</td>\n",
       "      <td>Bookcases</td>\n",
       "      <td>261.9600</td>\n",
       "      <td>2</td>\n",
       "      <td>0.00</td>\n",
       "      <td>41.9136</td>\n",
       "    </tr>\n",
       "    <tr>\n",
       "      <th>1</th>\n",
       "      <td>Second Class</td>\n",
       "      <td>Consumer</td>\n",
       "      <td>United States</td>\n",
       "      <td>Henderson</td>\n",
       "      <td>Kentucky</td>\n",
       "      <td>42420</td>\n",
       "      <td>South</td>\n",
       "      <td>Furniture</td>\n",
       "      <td>Chairs</td>\n",
       "      <td>731.9400</td>\n",
       "      <td>3</td>\n",
       "      <td>0.00</td>\n",
       "      <td>219.5820</td>\n",
       "    </tr>\n",
       "    <tr>\n",
       "      <th>2</th>\n",
       "      <td>Second Class</td>\n",
       "      <td>Corporate</td>\n",
       "      <td>United States</td>\n",
       "      <td>Los Angeles</td>\n",
       "      <td>California</td>\n",
       "      <td>90036</td>\n",
       "      <td>West</td>\n",
       "      <td>Office Supplies</td>\n",
       "      <td>Labels</td>\n",
       "      <td>14.6200</td>\n",
       "      <td>2</td>\n",
       "      <td>0.00</td>\n",
       "      <td>6.8714</td>\n",
       "    </tr>\n",
       "    <tr>\n",
       "      <th>3</th>\n",
       "      <td>Standard Class</td>\n",
       "      <td>Consumer</td>\n",
       "      <td>United States</td>\n",
       "      <td>Fort Lauderdale</td>\n",
       "      <td>Florida</td>\n",
       "      <td>33311</td>\n",
       "      <td>South</td>\n",
       "      <td>Furniture</td>\n",
       "      <td>Tables</td>\n",
       "      <td>957.5775</td>\n",
       "      <td>5</td>\n",
       "      <td>0.45</td>\n",
       "      <td>-383.0310</td>\n",
       "    </tr>\n",
       "    <tr>\n",
       "      <th>4</th>\n",
       "      <td>Standard Class</td>\n",
       "      <td>Consumer</td>\n",
       "      <td>United States</td>\n",
       "      <td>Fort Lauderdale</td>\n",
       "      <td>Florida</td>\n",
       "      <td>33311</td>\n",
       "      <td>South</td>\n",
       "      <td>Office Supplies</td>\n",
       "      <td>Storage</td>\n",
       "      <td>22.3680</td>\n",
       "      <td>2</td>\n",
       "      <td>0.20</td>\n",
       "      <td>2.5164</td>\n",
       "    </tr>\n",
       "    <tr>\n",
       "      <th>...</th>\n",
       "      <td>...</td>\n",
       "      <td>...</td>\n",
       "      <td>...</td>\n",
       "      <td>...</td>\n",
       "      <td>...</td>\n",
       "      <td>...</td>\n",
       "      <td>...</td>\n",
       "      <td>...</td>\n",
       "      <td>...</td>\n",
       "      <td>...</td>\n",
       "      <td>...</td>\n",
       "      <td>...</td>\n",
       "      <td>...</td>\n",
       "    </tr>\n",
       "    <tr>\n",
       "      <th>9989</th>\n",
       "      <td>Second Class</td>\n",
       "      <td>Consumer</td>\n",
       "      <td>United States</td>\n",
       "      <td>Miami</td>\n",
       "      <td>Florida</td>\n",
       "      <td>33180</td>\n",
       "      <td>South</td>\n",
       "      <td>Furniture</td>\n",
       "      <td>Furnishings</td>\n",
       "      <td>25.2480</td>\n",
       "      <td>3</td>\n",
       "      <td>0.20</td>\n",
       "      <td>4.1028</td>\n",
       "    </tr>\n",
       "    <tr>\n",
       "      <th>9990</th>\n",
       "      <td>Standard Class</td>\n",
       "      <td>Consumer</td>\n",
       "      <td>United States</td>\n",
       "      <td>Costa Mesa</td>\n",
       "      <td>California</td>\n",
       "      <td>92627</td>\n",
       "      <td>West</td>\n",
       "      <td>Furniture</td>\n",
       "      <td>Furnishings</td>\n",
       "      <td>91.9600</td>\n",
       "      <td>2</td>\n",
       "      <td>0.00</td>\n",
       "      <td>15.6332</td>\n",
       "    </tr>\n",
       "    <tr>\n",
       "      <th>9991</th>\n",
       "      <td>Standard Class</td>\n",
       "      <td>Consumer</td>\n",
       "      <td>United States</td>\n",
       "      <td>Costa Mesa</td>\n",
       "      <td>California</td>\n",
       "      <td>92627</td>\n",
       "      <td>West</td>\n",
       "      <td>Technology</td>\n",
       "      <td>Phones</td>\n",
       "      <td>258.5760</td>\n",
       "      <td>2</td>\n",
       "      <td>0.20</td>\n",
       "      <td>19.3932</td>\n",
       "    </tr>\n",
       "    <tr>\n",
       "      <th>9992</th>\n",
       "      <td>Standard Class</td>\n",
       "      <td>Consumer</td>\n",
       "      <td>United States</td>\n",
       "      <td>Costa Mesa</td>\n",
       "      <td>California</td>\n",
       "      <td>92627</td>\n",
       "      <td>West</td>\n",
       "      <td>Office Supplies</td>\n",
       "      <td>Paper</td>\n",
       "      <td>29.6000</td>\n",
       "      <td>4</td>\n",
       "      <td>0.00</td>\n",
       "      <td>13.3200</td>\n",
       "    </tr>\n",
       "    <tr>\n",
       "      <th>9993</th>\n",
       "      <td>Second Class</td>\n",
       "      <td>Consumer</td>\n",
       "      <td>United States</td>\n",
       "      <td>Westminster</td>\n",
       "      <td>California</td>\n",
       "      <td>92683</td>\n",
       "      <td>West</td>\n",
       "      <td>Office Supplies</td>\n",
       "      <td>Appliances</td>\n",
       "      <td>243.1600</td>\n",
       "      <td>2</td>\n",
       "      <td>0.00</td>\n",
       "      <td>72.9480</td>\n",
       "    </tr>\n",
       "  </tbody>\n",
       "</table>\n",
       "<p>9994 rows × 13 columns</p>\n",
       "</div>"
      ],
      "text/plain": [
       "           Ship Mode    Segment        Country             City       State  \\\n",
       "0       Second Class   Consumer  United States        Henderson    Kentucky   \n",
       "1       Second Class   Consumer  United States        Henderson    Kentucky   \n",
       "2       Second Class  Corporate  United States      Los Angeles  California   \n",
       "3     Standard Class   Consumer  United States  Fort Lauderdale     Florida   \n",
       "4     Standard Class   Consumer  United States  Fort Lauderdale     Florida   \n",
       "...              ...        ...            ...              ...         ...   \n",
       "9989    Second Class   Consumer  United States            Miami     Florida   \n",
       "9990  Standard Class   Consumer  United States       Costa Mesa  California   \n",
       "9991  Standard Class   Consumer  United States       Costa Mesa  California   \n",
       "9992  Standard Class   Consumer  United States       Costa Mesa  California   \n",
       "9993    Second Class   Consumer  United States      Westminster  California   \n",
       "\n",
       "      Postal Code Region         Category Sub-Category     Sales  Quantity  \\\n",
       "0           42420  South        Furniture    Bookcases  261.9600         2   \n",
       "1           42420  South        Furniture       Chairs  731.9400         3   \n",
       "2           90036   West  Office Supplies       Labels   14.6200         2   \n",
       "3           33311  South        Furniture       Tables  957.5775         5   \n",
       "4           33311  South  Office Supplies      Storage   22.3680         2   \n",
       "...           ...    ...              ...          ...       ...       ...   \n",
       "9989        33180  South        Furniture  Furnishings   25.2480         3   \n",
       "9990        92627   West        Furniture  Furnishings   91.9600         2   \n",
       "9991        92627   West       Technology       Phones  258.5760         2   \n",
       "9992        92627   West  Office Supplies        Paper   29.6000         4   \n",
       "9993        92683   West  Office Supplies   Appliances  243.1600         2   \n",
       "\n",
       "      Discount    Profit  \n",
       "0         0.00   41.9136  \n",
       "1         0.00  219.5820  \n",
       "2         0.00    6.8714  \n",
       "3         0.45 -383.0310  \n",
       "4         0.20    2.5164  \n",
       "...        ...       ...  \n",
       "9989      0.20    4.1028  \n",
       "9990      0.00   15.6332  \n",
       "9991      0.20   19.3932  \n",
       "9992      0.00   13.3200  \n",
       "9993      0.00   72.9480  \n",
       "\n",
       "[9994 rows x 13 columns]"
      ]
     },
     "execution_count": 4,
     "metadata": {},
     "output_type": "execute_result"
    }
   ],
   "source": [
    "# loadding the data\n",
    "data=pd.read_csv(\"SampleSuperstore.csv\")\n",
    "data"
   ]
  },
  {
   "cell_type": "markdown",
   "id": "dd756c1b",
   "metadata": {},
   "source": [
    "## Data overview"
   ]
  },
  {
   "cell_type": "code",
   "execution_count": 5,
   "id": "64ad6929",
   "metadata": {},
   "outputs": [
    {
     "data": {
      "text/html": [
       "<div>\n",
       "<style scoped>\n",
       "    .dataframe tbody tr th:only-of-type {\n",
       "        vertical-align: middle;\n",
       "    }\n",
       "\n",
       "    .dataframe tbody tr th {\n",
       "        vertical-align: top;\n",
       "    }\n",
       "\n",
       "    .dataframe thead th {\n",
       "        text-align: right;\n",
       "    }\n",
       "</style>\n",
       "<table border=\"1\" class=\"dataframe\">\n",
       "  <thead>\n",
       "    <tr style=\"text-align: right;\">\n",
       "      <th></th>\n",
       "      <th>Ship Mode</th>\n",
       "      <th>Segment</th>\n",
       "      <th>Country</th>\n",
       "      <th>City</th>\n",
       "      <th>State</th>\n",
       "      <th>Postal Code</th>\n",
       "      <th>Region</th>\n",
       "      <th>Category</th>\n",
       "      <th>Sub-Category</th>\n",
       "      <th>Sales</th>\n",
       "      <th>Quantity</th>\n",
       "      <th>Discount</th>\n",
       "      <th>Profit</th>\n",
       "    </tr>\n",
       "  </thead>\n",
       "  <tbody>\n",
       "    <tr>\n",
       "      <th>0</th>\n",
       "      <td>Second Class</td>\n",
       "      <td>Consumer</td>\n",
       "      <td>United States</td>\n",
       "      <td>Henderson</td>\n",
       "      <td>Kentucky</td>\n",
       "      <td>42420</td>\n",
       "      <td>South</td>\n",
       "      <td>Furniture</td>\n",
       "      <td>Bookcases</td>\n",
       "      <td>261.9600</td>\n",
       "      <td>2</td>\n",
       "      <td>0.00</td>\n",
       "      <td>41.9136</td>\n",
       "    </tr>\n",
       "    <tr>\n",
       "      <th>1</th>\n",
       "      <td>Second Class</td>\n",
       "      <td>Consumer</td>\n",
       "      <td>United States</td>\n",
       "      <td>Henderson</td>\n",
       "      <td>Kentucky</td>\n",
       "      <td>42420</td>\n",
       "      <td>South</td>\n",
       "      <td>Furniture</td>\n",
       "      <td>Chairs</td>\n",
       "      <td>731.9400</td>\n",
       "      <td>3</td>\n",
       "      <td>0.00</td>\n",
       "      <td>219.5820</td>\n",
       "    </tr>\n",
       "    <tr>\n",
       "      <th>2</th>\n",
       "      <td>Second Class</td>\n",
       "      <td>Corporate</td>\n",
       "      <td>United States</td>\n",
       "      <td>Los Angeles</td>\n",
       "      <td>California</td>\n",
       "      <td>90036</td>\n",
       "      <td>West</td>\n",
       "      <td>Office Supplies</td>\n",
       "      <td>Labels</td>\n",
       "      <td>14.6200</td>\n",
       "      <td>2</td>\n",
       "      <td>0.00</td>\n",
       "      <td>6.8714</td>\n",
       "    </tr>\n",
       "    <tr>\n",
       "      <th>3</th>\n",
       "      <td>Standard Class</td>\n",
       "      <td>Consumer</td>\n",
       "      <td>United States</td>\n",
       "      <td>Fort Lauderdale</td>\n",
       "      <td>Florida</td>\n",
       "      <td>33311</td>\n",
       "      <td>South</td>\n",
       "      <td>Furniture</td>\n",
       "      <td>Tables</td>\n",
       "      <td>957.5775</td>\n",
       "      <td>5</td>\n",
       "      <td>0.45</td>\n",
       "      <td>-383.0310</td>\n",
       "    </tr>\n",
       "    <tr>\n",
       "      <th>4</th>\n",
       "      <td>Standard Class</td>\n",
       "      <td>Consumer</td>\n",
       "      <td>United States</td>\n",
       "      <td>Fort Lauderdale</td>\n",
       "      <td>Florida</td>\n",
       "      <td>33311</td>\n",
       "      <td>South</td>\n",
       "      <td>Office Supplies</td>\n",
       "      <td>Storage</td>\n",
       "      <td>22.3680</td>\n",
       "      <td>2</td>\n",
       "      <td>0.20</td>\n",
       "      <td>2.5164</td>\n",
       "    </tr>\n",
       "  </tbody>\n",
       "</table>\n",
       "</div>"
      ],
      "text/plain": [
       "        Ship Mode    Segment        Country             City       State  \\\n",
       "0    Second Class   Consumer  United States        Henderson    Kentucky   \n",
       "1    Second Class   Consumer  United States        Henderson    Kentucky   \n",
       "2    Second Class  Corporate  United States      Los Angeles  California   \n",
       "3  Standard Class   Consumer  United States  Fort Lauderdale     Florida   \n",
       "4  Standard Class   Consumer  United States  Fort Lauderdale     Florida   \n",
       "\n",
       "   Postal Code Region         Category Sub-Category     Sales  Quantity  \\\n",
       "0        42420  South        Furniture    Bookcases  261.9600         2   \n",
       "1        42420  South        Furniture       Chairs  731.9400         3   \n",
       "2        90036   West  Office Supplies       Labels   14.6200         2   \n",
       "3        33311  South        Furniture       Tables  957.5775         5   \n",
       "4        33311  South  Office Supplies      Storage   22.3680         2   \n",
       "\n",
       "   Discount    Profit  \n",
       "0      0.00   41.9136  \n",
       "1      0.00  219.5820  \n",
       "2      0.00    6.8714  \n",
       "3      0.45 -383.0310  \n",
       "4      0.20    2.5164  "
      ]
     },
     "execution_count": 5,
     "metadata": {},
     "output_type": "execute_result"
    }
   ],
   "source": [
    "data.head() # it will show starting 5 rows"
   ]
  },
  {
   "cell_type": "code",
   "execution_count": 6,
   "id": "83b5de80",
   "metadata": {},
   "outputs": [
    {
     "data": {
      "text/html": [
       "<div>\n",
       "<style scoped>\n",
       "    .dataframe tbody tr th:only-of-type {\n",
       "        vertical-align: middle;\n",
       "    }\n",
       "\n",
       "    .dataframe tbody tr th {\n",
       "        vertical-align: top;\n",
       "    }\n",
       "\n",
       "    .dataframe thead th {\n",
       "        text-align: right;\n",
       "    }\n",
       "</style>\n",
       "<table border=\"1\" class=\"dataframe\">\n",
       "  <thead>\n",
       "    <tr style=\"text-align: right;\">\n",
       "      <th></th>\n",
       "      <th>Ship Mode</th>\n",
       "      <th>Segment</th>\n",
       "      <th>Country</th>\n",
       "      <th>City</th>\n",
       "      <th>State</th>\n",
       "      <th>Postal Code</th>\n",
       "      <th>Region</th>\n",
       "      <th>Category</th>\n",
       "      <th>Sub-Category</th>\n",
       "      <th>Sales</th>\n",
       "      <th>Quantity</th>\n",
       "      <th>Discount</th>\n",
       "      <th>Profit</th>\n",
       "    </tr>\n",
       "  </thead>\n",
       "  <tbody>\n",
       "    <tr>\n",
       "      <th>9989</th>\n",
       "      <td>Second Class</td>\n",
       "      <td>Consumer</td>\n",
       "      <td>United States</td>\n",
       "      <td>Miami</td>\n",
       "      <td>Florida</td>\n",
       "      <td>33180</td>\n",
       "      <td>South</td>\n",
       "      <td>Furniture</td>\n",
       "      <td>Furnishings</td>\n",
       "      <td>25.248</td>\n",
       "      <td>3</td>\n",
       "      <td>0.2</td>\n",
       "      <td>4.1028</td>\n",
       "    </tr>\n",
       "    <tr>\n",
       "      <th>9990</th>\n",
       "      <td>Standard Class</td>\n",
       "      <td>Consumer</td>\n",
       "      <td>United States</td>\n",
       "      <td>Costa Mesa</td>\n",
       "      <td>California</td>\n",
       "      <td>92627</td>\n",
       "      <td>West</td>\n",
       "      <td>Furniture</td>\n",
       "      <td>Furnishings</td>\n",
       "      <td>91.960</td>\n",
       "      <td>2</td>\n",
       "      <td>0.0</td>\n",
       "      <td>15.6332</td>\n",
       "    </tr>\n",
       "    <tr>\n",
       "      <th>9991</th>\n",
       "      <td>Standard Class</td>\n",
       "      <td>Consumer</td>\n",
       "      <td>United States</td>\n",
       "      <td>Costa Mesa</td>\n",
       "      <td>California</td>\n",
       "      <td>92627</td>\n",
       "      <td>West</td>\n",
       "      <td>Technology</td>\n",
       "      <td>Phones</td>\n",
       "      <td>258.576</td>\n",
       "      <td>2</td>\n",
       "      <td>0.2</td>\n",
       "      <td>19.3932</td>\n",
       "    </tr>\n",
       "    <tr>\n",
       "      <th>9992</th>\n",
       "      <td>Standard Class</td>\n",
       "      <td>Consumer</td>\n",
       "      <td>United States</td>\n",
       "      <td>Costa Mesa</td>\n",
       "      <td>California</td>\n",
       "      <td>92627</td>\n",
       "      <td>West</td>\n",
       "      <td>Office Supplies</td>\n",
       "      <td>Paper</td>\n",
       "      <td>29.600</td>\n",
       "      <td>4</td>\n",
       "      <td>0.0</td>\n",
       "      <td>13.3200</td>\n",
       "    </tr>\n",
       "    <tr>\n",
       "      <th>9993</th>\n",
       "      <td>Second Class</td>\n",
       "      <td>Consumer</td>\n",
       "      <td>United States</td>\n",
       "      <td>Westminster</td>\n",
       "      <td>California</td>\n",
       "      <td>92683</td>\n",
       "      <td>West</td>\n",
       "      <td>Office Supplies</td>\n",
       "      <td>Appliances</td>\n",
       "      <td>243.160</td>\n",
       "      <td>2</td>\n",
       "      <td>0.0</td>\n",
       "      <td>72.9480</td>\n",
       "    </tr>\n",
       "  </tbody>\n",
       "</table>\n",
       "</div>"
      ],
      "text/plain": [
       "           Ship Mode   Segment        Country         City       State  \\\n",
       "9989    Second Class  Consumer  United States        Miami     Florida   \n",
       "9990  Standard Class  Consumer  United States   Costa Mesa  California   \n",
       "9991  Standard Class  Consumer  United States   Costa Mesa  California   \n",
       "9992  Standard Class  Consumer  United States   Costa Mesa  California   \n",
       "9993    Second Class  Consumer  United States  Westminster  California   \n",
       "\n",
       "      Postal Code Region         Category Sub-Category    Sales  Quantity  \\\n",
       "9989        33180  South        Furniture  Furnishings   25.248         3   \n",
       "9990        92627   West        Furniture  Furnishings   91.960         2   \n",
       "9991        92627   West       Technology       Phones  258.576         2   \n",
       "9992        92627   West  Office Supplies        Paper   29.600         4   \n",
       "9993        92683   West  Office Supplies   Appliances  243.160         2   \n",
       "\n",
       "      Discount   Profit  \n",
       "9989       0.2   4.1028  \n",
       "9990       0.0  15.6332  \n",
       "9991       0.2  19.3932  \n",
       "9992       0.0  13.3200  \n",
       "9993       0.0  72.9480  "
      ]
     },
     "execution_count": 6,
     "metadata": {},
     "output_type": "execute_result"
    }
   ],
   "source": [
    "data.tail() # it will show last 5 rows"
   ]
  },
  {
   "cell_type": "code",
   "execution_count": 7,
   "id": "5a11c0fa",
   "metadata": {},
   "outputs": [
    {
     "name": "stdout",
     "output_type": "stream",
     "text": [
      "<class 'pandas.core.frame.DataFrame'>\n",
      "RangeIndex: 9994 entries, 0 to 9993\n",
      "Data columns (total 13 columns):\n",
      " #   Column        Non-Null Count  Dtype  \n",
      "---  ------        --------------  -----  \n",
      " 0   Ship Mode     9994 non-null   object \n",
      " 1   Segment       9994 non-null   object \n",
      " 2   Country       9994 non-null   object \n",
      " 3   City          9994 non-null   object \n",
      " 4   State         9994 non-null   object \n",
      " 5   Postal Code   9994 non-null   int64  \n",
      " 6   Region        9994 non-null   object \n",
      " 7   Category      9994 non-null   object \n",
      " 8   Sub-Category  9994 non-null   object \n",
      " 9   Sales         9994 non-null   float64\n",
      " 10  Quantity      9994 non-null   int64  \n",
      " 11  Discount      9994 non-null   float64\n",
      " 12  Profit        9994 non-null   float64\n",
      "dtypes: float64(3), int64(2), object(8)\n",
      "memory usage: 1015.1+ KB\n"
     ]
    }
   ],
   "source": [
    "data.info() # it will give information about data"
   ]
  },
  {
   "cell_type": "code",
   "execution_count": 8,
   "id": "5ac729b5",
   "metadata": {},
   "outputs": [
    {
     "data": {
      "text/html": [
       "<div>\n",
       "<style scoped>\n",
       "    .dataframe tbody tr th:only-of-type {\n",
       "        vertical-align: middle;\n",
       "    }\n",
       "\n",
       "    .dataframe tbody tr th {\n",
       "        vertical-align: top;\n",
       "    }\n",
       "\n",
       "    .dataframe thead th {\n",
       "        text-align: right;\n",
       "    }\n",
       "</style>\n",
       "<table border=\"1\" class=\"dataframe\">\n",
       "  <thead>\n",
       "    <tr style=\"text-align: right;\">\n",
       "      <th></th>\n",
       "      <th>Ship Mode</th>\n",
       "      <th>Segment</th>\n",
       "      <th>Country</th>\n",
       "      <th>City</th>\n",
       "      <th>State</th>\n",
       "      <th>Postal Code</th>\n",
       "      <th>Region</th>\n",
       "      <th>Category</th>\n",
       "      <th>Sub-Category</th>\n",
       "      <th>Sales</th>\n",
       "      <th>Quantity</th>\n",
       "      <th>Discount</th>\n",
       "      <th>Profit</th>\n",
       "    </tr>\n",
       "  </thead>\n",
       "  <tbody>\n",
       "    <tr>\n",
       "      <th>count</th>\n",
       "      <td>9994</td>\n",
       "      <td>9994</td>\n",
       "      <td>9994</td>\n",
       "      <td>9994</td>\n",
       "      <td>9994</td>\n",
       "      <td>9994.000000</td>\n",
       "      <td>9994</td>\n",
       "      <td>9994</td>\n",
       "      <td>9994</td>\n",
       "      <td>9994.000000</td>\n",
       "      <td>9994.000000</td>\n",
       "      <td>9994.000000</td>\n",
       "      <td>9994.000000</td>\n",
       "    </tr>\n",
       "    <tr>\n",
       "      <th>unique</th>\n",
       "      <td>4</td>\n",
       "      <td>3</td>\n",
       "      <td>1</td>\n",
       "      <td>531</td>\n",
       "      <td>49</td>\n",
       "      <td>NaN</td>\n",
       "      <td>4</td>\n",
       "      <td>3</td>\n",
       "      <td>17</td>\n",
       "      <td>NaN</td>\n",
       "      <td>NaN</td>\n",
       "      <td>NaN</td>\n",
       "      <td>NaN</td>\n",
       "    </tr>\n",
       "    <tr>\n",
       "      <th>top</th>\n",
       "      <td>Standard Class</td>\n",
       "      <td>Consumer</td>\n",
       "      <td>United States</td>\n",
       "      <td>New York City</td>\n",
       "      <td>California</td>\n",
       "      <td>NaN</td>\n",
       "      <td>West</td>\n",
       "      <td>Office Supplies</td>\n",
       "      <td>Binders</td>\n",
       "      <td>NaN</td>\n",
       "      <td>NaN</td>\n",
       "      <td>NaN</td>\n",
       "      <td>NaN</td>\n",
       "    </tr>\n",
       "    <tr>\n",
       "      <th>freq</th>\n",
       "      <td>5968</td>\n",
       "      <td>5191</td>\n",
       "      <td>9994</td>\n",
       "      <td>915</td>\n",
       "      <td>2001</td>\n",
       "      <td>NaN</td>\n",
       "      <td>3203</td>\n",
       "      <td>6026</td>\n",
       "      <td>1523</td>\n",
       "      <td>NaN</td>\n",
       "      <td>NaN</td>\n",
       "      <td>NaN</td>\n",
       "      <td>NaN</td>\n",
       "    </tr>\n",
       "    <tr>\n",
       "      <th>mean</th>\n",
       "      <td>NaN</td>\n",
       "      <td>NaN</td>\n",
       "      <td>NaN</td>\n",
       "      <td>NaN</td>\n",
       "      <td>NaN</td>\n",
       "      <td>55190.379428</td>\n",
       "      <td>NaN</td>\n",
       "      <td>NaN</td>\n",
       "      <td>NaN</td>\n",
       "      <td>229.858001</td>\n",
       "      <td>3.789574</td>\n",
       "      <td>0.156203</td>\n",
       "      <td>28.656896</td>\n",
       "    </tr>\n",
       "    <tr>\n",
       "      <th>std</th>\n",
       "      <td>NaN</td>\n",
       "      <td>NaN</td>\n",
       "      <td>NaN</td>\n",
       "      <td>NaN</td>\n",
       "      <td>NaN</td>\n",
       "      <td>32063.693350</td>\n",
       "      <td>NaN</td>\n",
       "      <td>NaN</td>\n",
       "      <td>NaN</td>\n",
       "      <td>623.245101</td>\n",
       "      <td>2.225110</td>\n",
       "      <td>0.206452</td>\n",
       "      <td>234.260108</td>\n",
       "    </tr>\n",
       "    <tr>\n",
       "      <th>min</th>\n",
       "      <td>NaN</td>\n",
       "      <td>NaN</td>\n",
       "      <td>NaN</td>\n",
       "      <td>NaN</td>\n",
       "      <td>NaN</td>\n",
       "      <td>1040.000000</td>\n",
       "      <td>NaN</td>\n",
       "      <td>NaN</td>\n",
       "      <td>NaN</td>\n",
       "      <td>0.444000</td>\n",
       "      <td>1.000000</td>\n",
       "      <td>0.000000</td>\n",
       "      <td>-6599.978000</td>\n",
       "    </tr>\n",
       "    <tr>\n",
       "      <th>25%</th>\n",
       "      <td>NaN</td>\n",
       "      <td>NaN</td>\n",
       "      <td>NaN</td>\n",
       "      <td>NaN</td>\n",
       "      <td>NaN</td>\n",
       "      <td>23223.000000</td>\n",
       "      <td>NaN</td>\n",
       "      <td>NaN</td>\n",
       "      <td>NaN</td>\n",
       "      <td>17.280000</td>\n",
       "      <td>2.000000</td>\n",
       "      <td>0.000000</td>\n",
       "      <td>1.728750</td>\n",
       "    </tr>\n",
       "    <tr>\n",
       "      <th>50%</th>\n",
       "      <td>NaN</td>\n",
       "      <td>NaN</td>\n",
       "      <td>NaN</td>\n",
       "      <td>NaN</td>\n",
       "      <td>NaN</td>\n",
       "      <td>56430.500000</td>\n",
       "      <td>NaN</td>\n",
       "      <td>NaN</td>\n",
       "      <td>NaN</td>\n",
       "      <td>54.490000</td>\n",
       "      <td>3.000000</td>\n",
       "      <td>0.200000</td>\n",
       "      <td>8.666500</td>\n",
       "    </tr>\n",
       "    <tr>\n",
       "      <th>75%</th>\n",
       "      <td>NaN</td>\n",
       "      <td>NaN</td>\n",
       "      <td>NaN</td>\n",
       "      <td>NaN</td>\n",
       "      <td>NaN</td>\n",
       "      <td>90008.000000</td>\n",
       "      <td>NaN</td>\n",
       "      <td>NaN</td>\n",
       "      <td>NaN</td>\n",
       "      <td>209.940000</td>\n",
       "      <td>5.000000</td>\n",
       "      <td>0.200000</td>\n",
       "      <td>29.364000</td>\n",
       "    </tr>\n",
       "    <tr>\n",
       "      <th>max</th>\n",
       "      <td>NaN</td>\n",
       "      <td>NaN</td>\n",
       "      <td>NaN</td>\n",
       "      <td>NaN</td>\n",
       "      <td>NaN</td>\n",
       "      <td>99301.000000</td>\n",
       "      <td>NaN</td>\n",
       "      <td>NaN</td>\n",
       "      <td>NaN</td>\n",
       "      <td>22638.480000</td>\n",
       "      <td>14.000000</td>\n",
       "      <td>0.800000</td>\n",
       "      <td>8399.976000</td>\n",
       "    </tr>\n",
       "  </tbody>\n",
       "</table>\n",
       "</div>"
      ],
      "text/plain": [
       "             Ship Mode   Segment        Country           City       State  \\\n",
       "count             9994      9994           9994           9994        9994   \n",
       "unique               4         3              1            531          49   \n",
       "top     Standard Class  Consumer  United States  New York City  California   \n",
       "freq              5968      5191           9994            915        2001   \n",
       "mean               NaN       NaN            NaN            NaN         NaN   \n",
       "std                NaN       NaN            NaN            NaN         NaN   \n",
       "min                NaN       NaN            NaN            NaN         NaN   \n",
       "25%                NaN       NaN            NaN            NaN         NaN   \n",
       "50%                NaN       NaN            NaN            NaN         NaN   \n",
       "75%                NaN       NaN            NaN            NaN         NaN   \n",
       "max                NaN       NaN            NaN            NaN         NaN   \n",
       "\n",
       "         Postal Code Region         Category Sub-Category         Sales  \\\n",
       "count    9994.000000   9994             9994         9994   9994.000000   \n",
       "unique           NaN      4                3           17           NaN   \n",
       "top              NaN   West  Office Supplies      Binders           NaN   \n",
       "freq             NaN   3203             6026         1523           NaN   \n",
       "mean    55190.379428    NaN              NaN          NaN    229.858001   \n",
       "std     32063.693350    NaN              NaN          NaN    623.245101   \n",
       "min      1040.000000    NaN              NaN          NaN      0.444000   \n",
       "25%     23223.000000    NaN              NaN          NaN     17.280000   \n",
       "50%     56430.500000    NaN              NaN          NaN     54.490000   \n",
       "75%     90008.000000    NaN              NaN          NaN    209.940000   \n",
       "max     99301.000000    NaN              NaN          NaN  22638.480000   \n",
       "\n",
       "           Quantity     Discount       Profit  \n",
       "count   9994.000000  9994.000000  9994.000000  \n",
       "unique          NaN          NaN          NaN  \n",
       "top             NaN          NaN          NaN  \n",
       "freq            NaN          NaN          NaN  \n",
       "mean       3.789574     0.156203    28.656896  \n",
       "std        2.225110     0.206452   234.260108  \n",
       "min        1.000000     0.000000 -6599.978000  \n",
       "25%        2.000000     0.000000     1.728750  \n",
       "50%        3.000000     0.200000     8.666500  \n",
       "75%        5.000000     0.200000    29.364000  \n",
       "max       14.000000     0.800000  8399.976000  "
      ]
     },
     "execution_count": 8,
     "metadata": {},
     "output_type": "execute_result"
    }
   ],
   "source": [
    "data.describe(include='all') # it will describe the data"
   ]
  },
  {
   "cell_type": "code",
   "execution_count": 9,
   "id": "0459af8d",
   "metadata": {},
   "outputs": [
    {
     "data": {
      "text/plain": [
       "(9994, 13)"
      ]
     },
     "execution_count": 9,
     "metadata": {},
     "output_type": "execute_result"
    }
   ],
   "source": [
    "data.shape # it will give shape of data"
   ]
  },
  {
   "cell_type": "code",
   "execution_count": 10,
   "id": "490191c0",
   "metadata": {},
   "outputs": [
    {
     "data": {
      "text/plain": [
       "Ship Mode       0\n",
       "Segment         0\n",
       "Country         0\n",
       "City            0\n",
       "State           0\n",
       "Postal Code     0\n",
       "Region          0\n",
       "Category        0\n",
       "Sub-Category    0\n",
       "Sales           0\n",
       "Quantity        0\n",
       "Discount        0\n",
       "Profit          0\n",
       "dtype: int64"
      ]
     },
     "execution_count": 10,
     "metadata": {},
     "output_type": "execute_result"
    }
   ],
   "source": [
    "data.isnull().sum() # for checking null values"
   ]
  },
  {
   "cell_type": "code",
   "execution_count": 11,
   "id": "4c8b4221",
   "metadata": {},
   "outputs": [
    {
     "data": {
      "text/plain": [
       "17"
      ]
     },
     "execution_count": 11,
     "metadata": {},
     "output_type": "execute_result"
    }
   ],
   "source": [
    "data.duplicated().sum() # for checking duplicate values"
   ]
  },
  {
   "cell_type": "markdown",
   "id": "b897ec1d",
   "metadata": {},
   "source": [
    "## Data visualizations"
   ]
  },
  {
   "cell_type": "code",
   "execution_count": 12,
   "id": "23d2c034",
   "metadata": {},
   "outputs": [
    {
     "data": {
      "text/plain": [
       "Consumer       5191\n",
       "Corporate      3020\n",
       "Home Office    1783\n",
       "Name: Segment, dtype: int64"
      ]
     },
     "execution_count": 12,
     "metadata": {},
     "output_type": "execute_result"
    }
   ],
   "source": [
    "# Analysing segment of people buying from the supermarket\n",
    "data['Segment'].value_counts()"
   ]
  },
  {
   "cell_type": "code",
   "execution_count": 13,
   "id": "f46a6119",
   "metadata": {},
   "outputs": [
    {
     "data": {
      "text/plain": [
       "Consumer       51.941165\n",
       "Corporate      30.218131\n",
       "Home Office    17.840704\n",
       "Name: Segment, dtype: float64"
      ]
     },
     "execution_count": 13,
     "metadata": {},
     "output_type": "execute_result"
    }
   ],
   "source": [
    "data['Segment'].value_counts()/len(data['Segment'])*100"
   ]
  },
  {
   "cell_type": "code",
   "execution_count": 22,
   "id": "0f010478",
   "metadata": {},
   "outputs": [
    {
     "data": {
      "text/plain": [
       "<AxesSubplot:>"
      ]
     },
     "execution_count": 22,
     "metadata": {},
     "output_type": "execute_result"
    },
    {
     "data": {
      "image/png": "[encoded data removed]",
      "text/plain": [
       "<Figure size 640x480 with 1 Axes>"
      ]
     },
     "metadata": {},
     "output_type": "display_data"
    }
   ],
   "source": [
    "S=(data['Segment'].value_counts()/len(data['Segment'])*100).plot(kind='bar',color='r')\n",
    "S"
   ]
  },
  {
   "cell_type": "code",
   "execution_count": 16,
   "id": "548a9d52",
   "metadata": {},
   "outputs": [
    {
     "data": {
      "text/plain": [
       "Standard Class    5968\n",
       "Second Class      1945\n",
       "First Class       1538\n",
       "Same Day           543\n",
       "Name: Ship Mode, dtype: int64"
      ]
     },
     "execution_count": 16,
     "metadata": {},
     "output_type": "execute_result"
    }
   ],
   "source": [
    "#Analysing ship mode for the supermarket\n",
    "data['Ship Mode'].value_counts()"
   ]
  },
  {
   "cell_type": "code",
   "execution_count": 17,
   "id": "26ab44c8",
   "metadata": {},
   "outputs": [
    {
     "data": {
      "text/plain": [
       "Standard Class    59.715829\n",
       "Second Class      19.461677\n",
       "First Class       15.389234\n",
       "Same Day           5.433260\n",
       "Name: Ship Mode, dtype: float64"
      ]
     },
     "execution_count": 17,
     "metadata": {},
     "output_type": "execute_result"
    }
   ],
   "source": [
    "data['Ship Mode'].value_counts()/len(data['Ship Mode'])*100"
   ]
  },
  {
   "cell_type": "code",
   "execution_count": 23,
   "id": "4c1dd64f",
   "metadata": {},
   "outputs": [
    {
     "data": {
      "text/plain": [
       "<AxesSubplot:>"
      ]
     },
     "execution_count": 23,
     "metadata": {},
     "output_type": "execute_result"
    },
    {
     "data": {
      "image/png": "[encoded data removed]",
      "text/plain": [
       "<Figure size 640x480 with 1 Axes>"
      ]
     },
     "metadata": {},
     "output_type": "display_data"
    }
   ],
   "source": [
    "M=(data['Ship Mode'].value_counts()/len(data['Ship Mode'])*100).plot(kind='bar',color='y')\n",
    "M"
   ]
  },
  {
   "cell_type": "markdown",
   "id": "75794559",
   "metadata": {},
   "source": [
    "#### Following conclusion can be made from the graph:\n",
    "#### a)Most of the deliveries belong to the standard class( around 60%)\n",
    "#### b)Very less % of the delivery were made on the same day\n",
    "#### c)10-20% deliveries belong to 1st and 2nd class"
   ]
  },
  {
   "cell_type": "code",
   "execution_count": 20,
   "id": "ac1860aa",
   "metadata": {},
   "outputs": [
    {
     "data": {
      "text/plain": [
       "Office Supplies    6026\n",
       "Furniture          2121\n",
       "Technology         1847\n",
       "Name: Category, dtype: int64"
      ]
     },
     "execution_count": 20,
     "metadata": {},
     "output_type": "execute_result"
    }
   ],
   "source": [
    "# Analysing Category of items in the supermarket\n",
    "data['Category'].value_counts()"
   ]
  },
  {
   "cell_type": "code",
   "execution_count": 21,
   "id": "01a26387",
   "metadata": {},
   "outputs": [
    {
     "data": {
      "text/plain": [
       "Office Supplies    60.296178\n",
       "Furniture          21.222734\n",
       "Technology         18.481089\n",
       "Name: Category, dtype: float64"
      ]
     },
     "execution_count": 21,
     "metadata": {},
     "output_type": "execute_result"
    }
   ],
   "source": [
    "data['Category'].value_counts()/len(data['Category'])*100"
   ]
  },
  {
   "cell_type": "code",
   "execution_count": 24,
   "id": "64431919",
   "metadata": {},
   "outputs": [
    {
     "data": {
      "image/png": "[encoded data removed]",
      "text/plain": [
       "<Figure size 640x480 with 1 Axes>"
      ]
     },
     "metadata": {},
     "output_type": "display_data"
    }
   ],
   "source": [
    "C=(data['Category'].value_counts()/len(data['Category'])*100).plot(kind='bar',color='g')"
   ]
  },
  {
   "cell_type": "markdown",
   "id": "5962891d",
   "metadata": {},
   "source": [
    "#### Following conclusions can be made from the graph:\n",
    "#### a)Most of the categories belong to office supplies in supermarket\n",
    "#### b)20-25% belong to furniture and technology"
   ]
  },
  {
   "cell_type": "code",
   "execution_count": 26,
   "id": "e93c4380",
   "metadata": {},
   "outputs": [
    {
     "data": {
      "text/plain": [
       "<AxesSubplot:>"
      ]
     },
     "execution_count": 26,
     "metadata": {},
     "output_type": "execute_result"
    },
    {
     "data": {
      "image/png": "[encoded data removed]",
      "text/plain": [
       "<Figure size 640x480 with 1 Axes>"
      ]
     },
     "metadata": {},
     "output_type": "display_data"
    }
   ],
   "source": [
    "# Analysing sub-category of items in the super market\n",
    "((data['Sub-Category'].value_counts())/len(data['Sub-Category'])*100).plot(kind='bar')"
   ]
  },
  {
   "cell_type": "markdown",
   "id": "55b9b15d",
   "metadata": {},
   "source": [
    "#### From the graph, we conclude that:\n",
    "#### 1) 9-15% Sub-Category falls under office Supplies\n",
    "#### 2) 2-8% Sub-Category belongs to technology and furniture"
   ]
  },
  {
   "cell_type": "code",
   "execution_count": 30,
   "id": "e3da44e8",
   "metadata": {},
   "outputs": [
    {
     "data": {
      "image/png": "[encoded data removed]",
      "text/plain": [
       "<Figure size 640x480 with 1 Axes>"
      ]
     },
     "metadata": {},
     "output_type": "display_data"
    }
   ],
   "source": [
    "fig, ax=plt.subplots()\n",
    "colors={'Consumer':'blue','Corporate':'red','Home Office':'green'}\n",
    "ax.scatter(data['Sales'],data['Profit'],c=data['Segment'].apply(lambda x: colors[x]))\n",
    "plt.show()"
   ]
  },
  {
   "cell_type": "code",
   "execution_count": 33,
   "id": "0f04dc28",
   "metadata": {},
   "outputs": [
    {
     "data": {
      "text/html": [
       "<div>\n",
       "<style scoped>\n",
       "    .dataframe tbody tr th:only-of-type {\n",
       "        vertical-align: middle;\n",
       "    }\n",
       "\n",
       "    .dataframe tbody tr th {\n",
       "        vertical-align: top;\n",
       "    }\n",
       "\n",
       "    .dataframe thead th {\n",
       "        text-align: right;\n",
       "    }\n",
       "</style>\n",
       "<table border=\"1\" class=\"dataframe\">\n",
       "  <thead>\n",
       "    <tr style=\"text-align: right;\">\n",
       "      <th>Discount</th>\n",
       "      <th>0.00</th>\n",
       "      <th>0.10</th>\n",
       "      <th>0.15</th>\n",
       "      <th>0.20</th>\n",
       "      <th>0.30</th>\n",
       "      <th>0.32</th>\n",
       "      <th>0.40</th>\n",
       "      <th>0.45</th>\n",
       "      <th>0.50</th>\n",
       "      <th>0.60</th>\n",
       "      <th>0.70</th>\n",
       "      <th>0.80</th>\n",
       "    </tr>\n",
       "    <tr>\n",
       "      <th>Segment</th>\n",
       "      <th></th>\n",
       "      <th></th>\n",
       "      <th></th>\n",
       "      <th></th>\n",
       "      <th></th>\n",
       "      <th></th>\n",
       "      <th></th>\n",
       "      <th></th>\n",
       "      <th></th>\n",
       "      <th></th>\n",
       "      <th></th>\n",
       "      <th></th>\n",
       "    </tr>\n",
       "  </thead>\n",
       "  <tbody>\n",
       "    <tr>\n",
       "      <th>Consumer</th>\n",
       "      <td>51.900</td>\n",
       "      <td>365.598</td>\n",
       "      <td>307.666</td>\n",
       "      <td>51.540</td>\n",
       "      <td>361.011</td>\n",
       "      <td>328.3992</td>\n",
       "      <td>289.404</td>\n",
       "      <td>353.24025</td>\n",
       "      <td>292.100</td>\n",
       "      <td>23.526</td>\n",
       "      <td>12.051</td>\n",
       "      <td>8.568</td>\n",
       "    </tr>\n",
       "    <tr>\n",
       "      <th>Corporate</th>\n",
       "      <td>58.580</td>\n",
       "      <td>245.646</td>\n",
       "      <td>480.165</td>\n",
       "      <td>52.184</td>\n",
       "      <td>347.361</td>\n",
       "      <td>307.6660</td>\n",
       "      <td>338.679</td>\n",
       "      <td>562.29250</td>\n",
       "      <td>302.450</td>\n",
       "      <td>21.936</td>\n",
       "      <td>12.060</td>\n",
       "      <td>9.264</td>\n",
       "    </tr>\n",
       "    <tr>\n",
       "      <th>Home Office</th>\n",
       "      <td>49.645</td>\n",
       "      <td>191.646</td>\n",
       "      <td>411.332</td>\n",
       "      <td>52.680</td>\n",
       "      <td>362.901</td>\n",
       "      <td>341.9992</td>\n",
       "      <td>212.856</td>\n",
       "      <td>427.23725</td>\n",
       "      <td>433.935</td>\n",
       "      <td>22.608</td>\n",
       "      <td>12.957</td>\n",
       "      <td>8.769</td>\n",
       "    </tr>\n",
       "  </tbody>\n",
       "</table>\n",
       "</div>"
      ],
      "text/plain": [
       "Discount       0.00     0.10     0.15    0.20     0.30      0.32     0.40  \\\n",
       "Segment                                                                     \n",
       "Consumer     51.900  365.598  307.666  51.540  361.011  328.3992  289.404   \n",
       "Corporate    58.580  245.646  480.165  52.184  347.361  307.6660  338.679   \n",
       "Home Office  49.645  191.646  411.332  52.680  362.901  341.9992  212.856   \n",
       "\n",
       "Discount          0.45     0.50    0.60    0.70   0.80  \n",
       "Segment                                                 \n",
       "Consumer     353.24025  292.100  23.526  12.051  8.568  \n",
       "Corporate    562.29250  302.450  21.936  12.060  9.264  \n",
       "Home Office  427.23725  433.935  22.608  12.957  8.769  "
      ]
     },
     "execution_count": 33,
     "metadata": {},
     "output_type": "execute_result"
    }
   ],
   "source": [
    "data.pivot_table(values='Sales',index='Segment',columns='Discount',aggfunc='median')"
   ]
  },
  {
   "cell_type": "code",
   "execution_count": 34,
   "id": "9136568b",
   "metadata": {},
   "outputs": [
    {
     "data": {
      "text/html": [
       "<div>\n",
       "<style scoped>\n",
       "    .dataframe tbody tr th:only-of-type {\n",
       "        vertical-align: middle;\n",
       "    }\n",
       "\n",
       "    .dataframe tbody tr th {\n",
       "        vertical-align: top;\n",
       "    }\n",
       "\n",
       "    .dataframe thead th {\n",
       "        text-align: right;\n",
       "    }\n",
       "</style>\n",
       "<table border=\"1\" class=\"dataframe\">\n",
       "  <thead>\n",
       "    <tr style=\"text-align: right;\">\n",
       "      <th>Discount</th>\n",
       "      <th>0.00</th>\n",
       "      <th>0.10</th>\n",
       "      <th>0.15</th>\n",
       "      <th>0.20</th>\n",
       "      <th>0.30</th>\n",
       "      <th>0.32</th>\n",
       "      <th>0.40</th>\n",
       "      <th>0.45</th>\n",
       "      <th>0.50</th>\n",
       "      <th>0.60</th>\n",
       "      <th>0.70</th>\n",
       "      <th>0.80</th>\n",
       "    </tr>\n",
       "    <tr>\n",
       "      <th>Segment</th>\n",
       "      <th></th>\n",
       "      <th></th>\n",
       "      <th></th>\n",
       "      <th></th>\n",
       "      <th></th>\n",
       "      <th></th>\n",
       "      <th></th>\n",
       "      <th></th>\n",
       "      <th></th>\n",
       "      <th></th>\n",
       "      <th></th>\n",
       "      <th></th>\n",
       "    </tr>\n",
       "  </thead>\n",
       "  <tbody>\n",
       "    <tr>\n",
       "      <th>Consumer</th>\n",
       "      <td>16.1240</td>\n",
       "      <td>62.0390</td>\n",
       "      <td>5.12940</td>\n",
       "      <td>6.0433</td>\n",
       "      <td>-26.0562</td>\n",
       "      <td>-30.0980</td>\n",
       "      <td>-47.21360</td>\n",
       "      <td>-135.68145</td>\n",
       "      <td>-175.2600</td>\n",
       "      <td>-14.1323</td>\n",
       "      <td>-8.7276</td>\n",
       "      <td>-13.7175</td>\n",
       "    </tr>\n",
       "    <tr>\n",
       "      <th>Corporate</th>\n",
       "      <td>16.2688</td>\n",
       "      <td>46.7908</td>\n",
       "      <td>26.27735</td>\n",
       "      <td>6.7054</td>\n",
       "      <td>-28.2240</td>\n",
       "      <td>-59.0606</td>\n",
       "      <td>-87.27495</td>\n",
       "      <td>-255.58750</td>\n",
       "      <td>-120.5130</td>\n",
       "      <td>-10.4196</td>\n",
       "      <td>-8.9796</td>\n",
       "      <td>-16.3800</td>\n",
       "    </tr>\n",
       "    <tr>\n",
       "      <th>Home Office</th>\n",
       "      <td>15.4546</td>\n",
       "      <td>37.2300</td>\n",
       "      <td>16.79860</td>\n",
       "      <td>7.2576</td>\n",
       "      <td>-18.2040</td>\n",
       "      <td>-57.3234</td>\n",
       "      <td>-49.71900</td>\n",
       "      <td>-175.14690</td>\n",
       "      <td>-237.8425</td>\n",
       "      <td>-14.2290</td>\n",
       "      <td>-9.7608</td>\n",
       "      <td>-14.0328</td>\n",
       "    </tr>\n",
       "  </tbody>\n",
       "</table>\n",
       "</div>"
      ],
      "text/plain": [
       "Discount        0.00     0.10      0.15    0.20     0.30     0.32      0.40  \\\n",
       "Segment                                                                       \n",
       "Consumer     16.1240  62.0390   5.12940  6.0433 -26.0562 -30.0980 -47.21360   \n",
       "Corporate    16.2688  46.7908  26.27735  6.7054 -28.2240 -59.0606 -87.27495   \n",
       "Home Office  15.4546  37.2300  16.79860  7.2576 -18.2040 -57.3234 -49.71900   \n",
       "\n",
       "Discount          0.45      0.50     0.60    0.70     0.80  \n",
       "Segment                                                     \n",
       "Consumer    -135.68145 -175.2600 -14.1323 -8.7276 -13.7175  \n",
       "Corporate   -255.58750 -120.5130 -10.4196 -8.9796 -16.3800  \n",
       "Home Office -175.14690 -237.8425 -14.2290 -9.7608 -14.0328  "
      ]
     },
     "execution_count": 34,
     "metadata": {},
     "output_type": "execute_result"
    }
   ],
   "source": [
    "data.pivot_table(values='Profit',index='Segment',columns='Discount',aggfunc='median')"
   ]
  },
  {
   "cell_type": "code",
   "execution_count": 35,
   "id": "a63dd6c0",
   "metadata": {},
   "outputs": [
    {
     "data": {
      "text/plain": [
       "<AxesSubplot:ylabel='Frequency'>"
      ]
     },
     "execution_count": 35,
     "metadata": {},
     "output_type": "execute_result"
    },
    {
     "data": {
      "image/png": "[encoded data removed]",
      "text/plain": [
       "<Figure size 640x480 with 1 Axes>"
      ]
     },
     "metadata": {},
     "output_type": "display_data"
    }
   ],
   "source": [
    "temp_data=data.loc[(data['Segment']=='Consumer')&(data[\"Discount\"]==0.1)]\n",
    "temp_data[\"Profit\"].plot.hist(bins=50)"
   ]
  },
  {
   "cell_type": "code",
   "execution_count": 36,
   "id": "ff68e8a5",
   "metadata": {},
   "outputs": [
    {
     "data": {
      "text/plain": [
       "<AxesSubplot:ylabel='Frequency'>"
      ]
     },
     "execution_count": 36,
     "metadata": {},
     "output_type": "execute_result"
    },
    {
     "data": {
      "image/png": "[encoded data removed]",
      "text/plain": [
       "<Figure size 640x480 with 1 Axes>"
      ]
     },
     "metadata": {},
     "output_type": "display_data"
    }
   ],
   "source": [
    "temp_data=data.loc[(data['Segment']=='Consumer')&(data[\"Discount\"]==0.2)]\n",
    "temp_data[\"Profit\"].plot.hist(bins=50)"
   ]
  },
  {
   "cell_type": "code",
   "execution_count": 37,
   "id": "b69a46c2",
   "metadata": {},
   "outputs": [
    {
     "data": {
      "text/plain": [
       "<AxesSubplot:ylabel='Frequency'>"
      ]
     },
     "execution_count": 37,
     "metadata": {},
     "output_type": "execute_result"
    },
    {
     "data": {
      "image/png": "[encoded data removed]",
      "text/plain": [
       "<Figure size 640x480 with 1 Axes>"
      ]
     },
     "metadata": {},
     "output_type": "display_data"
    }
   ],
   "source": [
    "temp_data=data.loc[(data['Segment']=='Consumer')&(data[\"Discount\"]==0.8)]\n",
    "temp_data[\"Profit\"].plot.hist(bins=50)"
   ]
  },
  {
   "cell_type": "code",
   "execution_count": 38,
   "id": "00ede15f",
   "metadata": {},
   "outputs": [
    {
     "data": {
      "text/plain": [
       "<AxesSubplot:ylabel='Frequency'>"
      ]
     },
     "execution_count": 38,
     "metadata": {},
     "output_type": "execute_result"
    },
    {
     "data": {
      "image/png": "[encoded data removed]",
      "text/plain": [
       "<Figure size 640x480 with 1 Axes>"
      ]
     },
     "metadata": {},
     "output_type": "display_data"
    }
   ],
   "source": [
    "temp_data=data.loc[(data['Segment']=='Corporate')&(data[\"Discount\"]==0.8)]\n",
    "temp_data[\"Profit\"].plot.hist(bins=50)"
   ]
  },
  {
   "cell_type": "markdown",
   "id": "33f03392",
   "metadata": {},
   "source": [
    "####  **For all the segments- when super store is offering discount of < 40% then there is a profit as depicted by other graphs and if discount is >50% then there is a loss**"
   ]
  },
  {
   "cell_type": "code",
   "execution_count": 39,
   "id": "cfd95eff",
   "metadata": {},
   "outputs": [
    {
     "data": {
      "text/plain": [
       "<AxesSubplot:ylabel='Frequency'>"
      ]
     },
     "execution_count": 39,
     "metadata": {},
     "output_type": "execute_result"
    },
    {
     "data": {
      "image/png": "[encoded data removed]",
      "text/plain": [
       "<Figure size 640x480 with 1 Axes>"
      ]
     },
     "metadata": {},
     "output_type": "display_data"
    }
   ],
   "source": [
    "temp_data=data.loc[(data['Category']=='Furniture')&(data[\"Discount\"]==0.2)]\n",
    "temp_data[\"Profit\"].plot.hist(bins=50)"
   ]
  },
  {
   "cell_type": "code",
   "execution_count": 40,
   "id": "3272030e",
   "metadata": {},
   "outputs": [
    {
     "data": {
      "text/plain": [
       "<AxesSubplot:ylabel='Frequency'>"
      ]
     },
     "execution_count": 40,
     "metadata": {},
     "output_type": "execute_result"
    },
    {
     "data": {
      "image/png": "[encoded data removed]",
      "text/plain": [
       "<Figure size 640x480 with 1 Axes>"
      ]
     },
     "metadata": {},
     "output_type": "display_data"
    }
   ],
   "source": [
    "temp_data=data.loc[(data['Category']=='Technology')&(data[\"Discount\"]<=0.3)]\n",
    "temp_data[\"Profit\"].plot.hist(bins=50)"
   ]
  },
  {
   "cell_type": "code",
   "execution_count": 41,
   "id": "26726c35",
   "metadata": {},
   "outputs": [
    {
     "data": {
      "text/plain": [
       "<AxesSubplot:ylabel='Frequency'>"
      ]
     },
     "execution_count": 41,
     "metadata": {},
     "output_type": "execute_result"
    },
    {
     "data": {
      "image/png": "[encoded data removed]",
      "text/plain": [
       "<Figure size 640x480 with 1 Axes>"
      ]
     },
     "metadata": {},
     "output_type": "display_data"
    }
   ],
   "source": [
    "temp_data=data.loc[(data['Category']=='Technology')&(data[\"Discount\"]>=0.3)]\n",
    "temp_data[\"Profit\"].plot.hist(bins=50)"
   ]
  },
  {
   "cell_type": "code",
   "execution_count": 42,
   "id": "d454323f",
   "metadata": {},
   "outputs": [
    {
     "data": {
      "text/plain": [
       "<AxesSubplot:ylabel='Frequency'>"
      ]
     },
     "execution_count": 42,
     "metadata": {},
     "output_type": "execute_result"
    },
    {
     "data": {
      "image/png": "[encoded data removed]",
      "text/plain": [
       "<Figure size 640x480 with 1 Axes>"
      ]
     },
     "metadata": {},
     "output_type": "display_data"
    }
   ],
   "source": [
    "temp_data=data.loc[(data['Category']=='Office Supplies')&(data[\"Discount\"]<=0.3)]\n",
    "temp_data[\"Profit\"].plot.hist(bins=50)"
   ]
  },
  {
   "cell_type": "code",
   "execution_count": 43,
   "id": "5278b536",
   "metadata": {},
   "outputs": [
    {
     "data": {
      "text/plain": [
       "<AxesSubplot:ylabel='Frequency'>"
      ]
     },
     "execution_count": 43,
     "metadata": {},
     "output_type": "execute_result"
    },
    {
     "data": {
      "image/png": "[encoded data removed]",
      "text/plain": [
       "<Figure size 640x480 with 1 Axes>"
      ]
     },
     "metadata": {},
     "output_type": "display_data"
    }
   ],
   "source": [
    "temp_data=data.loc[(data['Category']=='Office Supplies')&(data[\"Discount\"]>=0.3)]\n",
    "temp_data[\"Profit\"].plot.hist(bins=50)"
   ]
  },
  {
   "cell_type": "markdown",
   "id": "1b667eec",
   "metadata": {},
   "source": [
    "### **From the above graphs, we conclude that:**\n",
    "### **For the categories: office supplies, technology and furniture**\n",
    "### **1)When discount is <=30% on items then there is a profit**\n",
    "### **2)When discount is >=30% on items then there iis a huge loss in superstore**"
   ]
  },
  {
   "cell_type": "code",
   "execution_count": 48,
   "id": "114bb4e0",
   "metadata": {},
   "outputs": [
    {
     "data": {
      "text/plain": [
       "<AxesSubplot:xlabel='Segment,Discount'>"
      ]
     },
     "execution_count": 48,
     "metadata": {},
     "output_type": "execute_result"
    },
    {
     "data": {
      "image/png": "[encoded data removed]",
      "text/plain": [
       "<Figure size 1500x600 with 1 Axes>"
      ]
     },
     "metadata": {},
     "output_type": "display_data"
    }
   ],
   "source": [
    "temp=data.groupby(['Segment','Discount']).Profit.median()\n",
    "temp.plot(kind='bar', stacked=True, figsize=(15,6) )"
   ]
  },
  {
   "cell_type": "markdown",
   "id": "c40046e8",
   "metadata": {},
   "source": [
    "### **This shows the exact scenario of all the segments when following discounts was offered by superstore**"
   ]
  },
  {
   "cell_type": "code",
   "execution_count": null,
   "id": "ecb93218",
   "metadata": {},
   "outputs": [],
   "source": []
  }
 ],
 "metadata": {
  "kernelspec": {
   "display_name": "Python 3 (ipykernel)",
   "language": "python",
   "name": "python3"
  },
  "language_info": {
   "codemirror_mode": {
    "name": "ipython",
    "version": 3
   },
   "file_extension": ".py",
   "mimetype": "text/x-python",
   "name": "python",
   "nbconvert_exporter": "python",
   "pygments_lexer": "ipython3",
   "version": "3.9.13"
  }
 },
 "nbformat": 4,
 "nbformat_minor": 5
}
